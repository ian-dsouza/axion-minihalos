{
 "cells": [
  {
   "cell_type": "code",
   "execution_count": 31,
   "metadata": {},
   "outputs": [],
   "source": [
    "import numpy as np"
   ]
  },
  {
   "cell_type": "code",
   "execution_count": 32,
   "metadata": {},
   "outputs": [],
   "source": [
    "# Please note that this file generates the S2023 fitting functions using the formulas presented in S2023. These formulas are not our own."
   ]
  },
  {
   "cell_type": "code",
   "execution_count": 33,
   "metadata": {},
   "outputs": [],
   "source": [
    "# PARAMETERS\n",
    "concentration = 10 # concentration of pre-interaction NFW minihalo\n",
    "Efrac_min = 1e-4 # minimum E_frac value to be considered\n",
    "Efrac_max = 1e3 # maximum E_frac value to be considered\n",
    "num_Efrac_elements = 41 # number of elements logarithmically spaced between 'Efrac_min' and 'Efrac_max'\n",
    "save_to_disk = False # Set to 'False' if you don't want to save fitting function to disk. Set to 'True' if you want to save"
   ]
  },
  {
   "cell_type": "code",
   "execution_count": 34,
   "metadata": {},
   "outputs": [],
   "source": [
    "c_val = concentration\n",
    "\n",
    "E_fracs = np.geomspace(Efrac_min, Efrac_max, num_Efrac_elements, endpoint=True) # Creates a loagrithmicallly spaced array between 'Efrac_min' to 'Efrac_max' with 'num_Efrac_elements' number of elements\n",
    "\n",
    "# Parameters of S2023 fitting functions\n",
    "eta = 0.98\n",
    "a1 = -0.8\n",
    "a2 = -0.59\n",
    "a3 = -0.034\n",
    "b0 = -0.58\n",
    "b1 = -0.56\n",
    "\n",
    "p = 10**( a1*(np.log10(c_val) - eta) + a2*(np.log10(c_val) - eta)**2 + a3*(np.log10(c_val) - eta)**3 )\n",
    "k = 10**( b0 + b1*(np.log10(c_val) - 2) )\n",
    "\n",
    "# S2023 fitting function formula\n",
    "survival_fractions_S2023_fitting_fn = 2 / ( 1+ (1 + E_fracs/p)**k )"
   ]
  },
  {
   "cell_type": "code",
   "execution_count": 35,
   "metadata": {},
   "outputs": [],
   "source": [
    "# Save survival fractions array to disk\n",
    "if save_to_disk:\n",
    "    np.save(f\"survival_fractions_S2023_fittingfn_c_{c_val}\", survival_fractions_S2023_fitting_fn)"
   ]
  }
 ],
 "metadata": {
  "kernelspec": {
   "display_name": "base",
   "language": "python",
   "name": "python3"
  },
  "language_info": {
   "codemirror_mode": {
    "name": "ipython",
    "version": 3
   },
   "file_extension": ".py",
   "mimetype": "text/x-python",
   "name": "python",
   "nbconvert_exporter": "python",
   "pygments_lexer": "ipython3",
   "version": "3.11.5"
  }
 },
 "nbformat": 4,
 "nbformat_minor": 2
}
