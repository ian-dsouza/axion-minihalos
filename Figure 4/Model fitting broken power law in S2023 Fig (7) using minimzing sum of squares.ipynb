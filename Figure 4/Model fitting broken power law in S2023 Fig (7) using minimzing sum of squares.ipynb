{
 "cells": [
  {
   "cell_type": "code",
   "execution_count": 13,
   "metadata": {},
   "outputs": [],
   "source": [
    "import numpy as np\n",
    "from scipy.optimize import minimize\n",
    "import matplotlib.pyplot as plt\n",
    "import os"
   ]
  },
  {
   "cell_type": "code",
   "execution_count": 14,
   "metadata": {},
   "outputs": [],
   "source": [
    "# PARAMETERS\n",
    "\n",
    "save_to_disk = False # Set to 'True' if you want the optimal model parameters to be saved to disk. Set to 'False' if you don't want to save to disk."
   ]
  },
  {
   "cell_type": "markdown",
   "metadata": {},
   "source": [
    "Model fitting the broken power law in S2023 Fig (7) top panel; b = 2e-5 kpc"
   ]
  },
  {
   "cell_type": "code",
   "execution_count": 15,
   "metadata": {},
   "outputs": [],
   "source": [
    "# This data is a subset of the data points provided to us courtesy of Jacob Shen from the S2023 paper.\n",
    "# It is that subset of the data points that have stabilized at t=2.5Gyr after a stellar interaction\n",
    "# The first column contains 'radius' values and the second column contains 'density' values\n",
    "data_top_panel = np.load(os.path.join('..', 'Data', 'data to model fit in S2023 Fig (7) top panel.npy'))"
   ]
  },
  {
   "cell_type": "code",
   "execution_count": 16,
   "metadata": {},
   "outputs": [
    {
     "name": "stdout",
     "output_type": "stream",
     "text": [
      "Optimal parameters to BPL model: r_1 = 1.14e-04 pc; rho_1 = 2.44e+00 Msolar/pc^3; k = 3.38e+00\n"
     ]
    }
   ],
   "source": [
    "# Function to compute the sum of squares of differences between the densities computed from the model parameters and dnesities got from using 'data_top_panel'\n",
    "def sum_squares(params):\n",
    "    r_0, rho_0, k = params\n",
    "\n",
    "    sum_sq = 0\n",
    "\n",
    "    for i, radius in enumerate(data_top_panel[:,0]):\n",
    "        sum_sq += ( np.log10(data_top_panel[i, 1])  -  np.log10(rho_0 / (radius / r_0) / (1 + radius / r_0)**k) )**2\n",
    "\n",
    "    return sum_sq\n",
    "        \n",
    "initial_guess = [1e-4,  2.5,  3] # [r_0, rho_0, k]\n",
    "bnds = ((0, None), (0, None), (0, 10)) # the three model parameters need to be found within these bounds\n",
    "minimized_values_top_panel = minimize(sum_squares, initial_guess, bounds=bnds) # Find optimal paramters of BPL model\n",
    "print(f\"Optimal parameters to BPL model: r_1 = {minimized_values_top_panel.x[0]:.2e} pc; rho_1 = {minimized_values_top_panel.x[1]:.2e} Msolar/pc^3; k = {minimized_values_top_panel.x[2]:.2e}\")\n",
    "\n",
    "if save_to_disk:\n",
    "    np.save(\"S2023 Fig (7) top panel model fit paramters - 3 values\", minimized_values_top_panel.x)"
   ]
  },
  {
   "cell_type": "markdown",
   "metadata": {},
   "source": [
    "Model fitting the broken power law in S2023 Fig (7) bottom panel; b = 5e-5 kpc"
   ]
  },
  {
   "cell_type": "code",
   "execution_count": 17,
   "metadata": {},
   "outputs": [],
   "source": [
    "# This data is a subset of the data points provided to us courtesy of Jacob Shen from the S2023 paper.\n",
    "# It is that subset of the data points that have stabilized at t=2.5Gyr after a stellar interaction\n",
    "# The first column contains 'radius' values and the second column contains 'density' values\n",
    "data_bottom_panel = np.load(os.path.join('..', 'Data', 'data to model fit in S2023 Fig (7) bottom panel.npy'))"
   ]
  },
  {
   "cell_type": "code",
   "execution_count": 18,
   "metadata": {},
   "outputs": [
    {
     "name": "stdout",
     "output_type": "stream",
     "text": [
      "Optimal parameters to BPL model: r_1 = 2.47e-04 pc; rho_1 = 7.16e-01 Msolar/pc^3; k = 3.34e+00\n"
     ]
    }
   ],
   "source": [
    "# Function to compute the sum of squares of differences between the densities computed from the model parameters and dnesities got from using 'data_bottom_panel'\n",
    "def sum_squares(params):\n",
    "    r_0, rho_0, k = params\n",
    "\n",
    "    sum_sq = 0\n",
    "\n",
    "    for i, radius in enumerate(data_bottom_panel[:,0]):\n",
    "        sum_sq += ( np.log10(data_bottom_panel[i, 1])  -  np.log10(rho_0 / (radius / r_0) / (1 + radius / r_0)**k) )**2\n",
    "\n",
    "    return sum_sq\n",
    "        \n",
    "initial_guess = [1e-4,  2.6,  3] # [r_0, rho_0, k]\n",
    "minimized_values_bottom_panel = minimize(sum_squares, initial_guess) # Find optimal paramters of BPL model\n",
    "print(f\"Optimal parameters to BPL model: r_1 = {minimized_values_bottom_panel.x[0]:.2e} pc; rho_1 = {minimized_values_bottom_panel.x[1]:.2e} Msolar/pc^3; k = {minimized_values_bottom_panel.x[2]:.2e}\")\n",
    "\n",
    "if save_to_disk:\n",
    "    np.save(\"S2023 Fig (7) bottom panel model fit paramters - 3 values\", minimized_values_bottom_panel.x)"
   ]
  }
 ],
 "metadata": {
  "kernelspec": {
   "display_name": "Python 3",
   "language": "python",
   "name": "python3"
  },
  "language_info": {
   "codemirror_mode": {
    "name": "ipython",
    "version": 3
   },
   "file_extension": ".py",
   "mimetype": "text/x-python",
   "name": "python",
   "nbconvert_exporter": "python",
   "pygments_lexer": "ipython3",
   "version": "3.11.5"
  }
 },
 "nbformat": 4,
 "nbformat_minor": 2
}
