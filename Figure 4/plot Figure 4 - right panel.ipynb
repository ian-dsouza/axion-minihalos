{
 "cells": [
  {
   "cell_type": "code",
   "execution_count": 1,
   "id": "91feb774",
   "metadata": {},
   "outputs": [],
   "source": [
    "import numpy as np\n",
    "import matplotlib.pyplot as plt\n",
    "import sympy as sp\n",
    "import math\n",
    "import scipy.integrate as si\n",
    "import scipy.optimize as so\n",
    "import os"
   ]
  },
  {
   "cell_type": "code",
   "execution_count": 2,
   "id": "cf79c90c",
   "metadata": {},
   "outputs": [],
   "source": [
    "# PARAMETERS\n",
    "save_to_disk = False # If set to True, figure will be saved to disk. Set to False if you don't want figure to be saved to disk."
   ]
  },
  {
   "cell_type": "code",
   "execution_count": 3,
   "id": "f31a431f",
   "metadata": {},
   "outputs": [],
   "source": [
    "def second_derivative_parametric_input(x, y, t):\n",
    "    # Input should be 'x' in terms 't', and 'y' in terms of 't'\n",
    "    # Output is second derivative of 'y' with respect to 'x' ('d2y/dx2') as a function of 't'\n",
    "    dy_dx = sp.Derivative(y, t) / sp.Derivative(x, t)\n",
    "    d2y_dx2 =  sp.Derivative(dy_dx, t) / sp.Derivative(x, t)\n",
    "    d2y_dx2_in_terms_of_t = sp.nsimplify(d2y_dx2.doit())\n",
    "\n",
    "    return d2y_dx2_in_terms_of_t\n",
    "    "
   ]
  },
  {
   "cell_type": "code",
   "execution_count": 4,
   "id": "7d491452",
   "metadata": {},
   "outputs": [],
   "source": [
    "c, f_NFW, x_prime = sp.symbols(\"c f_NFW x_prime\", positive=True)\n",
    "crho = 1 / (c*x_prime) / (1+c*x_prime)**2 # dimensionless density of NFW profile. 'chro = rho / rho_s', where 'rho' is the density profile and 'rho_s' is the scale radius.\n",
    "psi_2 = 1/f_NFW * ( sp.log(1+c*x_prime)/x_prime - c/(1+c*x_prime) ) # normalized relative potential. This is 'psi_B' from equation (25) in our article\n",
    "\n",
    "d2crho_dpsi2 = second_derivative_parametric_input(psi_2, crho, x_prime)  # Second derivative of 'chro' with respect to 'psi_2' as a functin of 'x_prime'"
   ]
  },
  {
   "cell_type": "code",
   "execution_count": 5,
   "id": "1a3c894c",
   "metadata": {},
   "outputs": [
    {
     "name": "stdout",
     "output_type": "stream",
     "text": [
      "Efrac for b = 5e-5 kpc (right panel) is 7.80e+00\n",
      "Scale radius of Hernquist profile = 1.73e-04 pc\n",
      "Scale density of Hernquist profile = 1.38e+00 Msolar / pc^3\n"
     ]
    }
   ],
   "source": [
    "#Plotting the NFW profile\n",
    "\n",
    "rho_s = 2.4796 # Msolar / pc^3\n",
    "r_s = 9.6022e-5 # pc\n",
    "\n",
    "rs = np.geomspace(1e-5, 1e-2, 40) # array of radius values\n",
    "rhos_NFW = rho_s / (rs/r_s * (1+rs/r_s)**2) # density values of NFW profile corresponding to radius values\n",
    "\n",
    "c_val = 100 # value of concetnration of NFW minihalo\n",
    "\n",
    "f_NFW_val = math.log(1+c_val)-c_val/(1+c_val) # using equation 14\n",
    "\n",
    "alpha_squared = 3/c_val**2 + 1/(2*f_NFW_val)*(c_val-3)/(c_val+1) # from K2021 equation (D12)\n",
    "alpha = alpha_squared**(1/2)\n",
    "\n",
    "alpha_bar_squared = (c_val**2 * math.log(100) + c_val**2 / 2 - 1/2) / f_NFW_val # this is actually 'beta^2' in our article. Formula from S2023 equation (8)\n",
    "alpha_bar = alpha_bar_squared**(1/2)\n",
    "\n",
    "beta = (c_val**3 - 2*c_val*(1+c_val)*f_NFW_val) / (2*(1+c_val)**2 * f_NFW_val**2) # this is actually gamma in our article. Formula from K2021 equation (D13)\n",
    "\n",
    "# compute transition radius - formula below equation (9) in our article. Formula was not developed in our article.\n",
    "def get_bs():\n",
    "    return fb * ((2*alpha) / (3*alpha_bar))**(1/2) * ((3*M_vir) / (4*math.pi*rhoBarmh))**(1/3) \n",
    "\n",
    "# Compute the normalized crossover radius 'x*'\n",
    "def get_x_c():\n",
    "    eqn = lambda x_c: beta / alpha_squared * E_frac * x_c**2 - ( 1/f_NFW_val * ( np.log(1+c_val*x_c) / x_c  -  c_val / (1+c_val*x_c) ) ) # using equation (19) in our article\n",
    "    sol = so.fsolve(eqn, 1)[0]\n",
    "    \n",
    "    return sol\n",
    "\n",
    "def get_x_prime(psi_prime):\n",
    "    eqn = lambda x_Prime: psi_prime  -  1/f_NFW_val * ( np.log(1+c_val*x_Prime)/x_Prime - c_val/(1+c_val*x_Prime) ) # Uses equation (25) in our article\n",
    "    sol = so.root_scalar(eqn, bracket=(x_star, 1e20)).root\n",
    "    \n",
    "    return sol\n",
    "\n",
    "# Compute the integrand from equation (J8) in our article\n",
    "def integrand_1(psi_prime, eps, x):\n",
    "    \n",
    "    psi_1 = 1/f_NFW_val * ( math.log(1+c_val*x)/x - c_val/(1+c_val*x_star) ) # from equation (24) in our article\n",
    "    x_prime = get_x_prime(psi_prime)\n",
    "\n",
    "    return (\n",
    "        x**2 * 1/(math.sqrt(8)*math.pi**2) * 1/np.sqrt(eps - psi_prime) * \n",
    "        d2crho_dpsi2_c_and_fNFW_substituted_lambdified(x_prime).real * np.sqrt(2*(psi_1 - eps))\n",
    "    )\n",
    "\n",
    "def range_x():\n",
    "    return [0, x_star]\n",
    "\n",
    "def range_eps(x):\n",
    "    return [0, beta / alpha_squared * E_frac * x**2]\n",
    "\n",
    "def range_psi_prime(eps, x):\n",
    "    return [0, eps]\n",
    "\n",
    "\n",
    "fb = 6\n",
    "rhoBarmh = 18.2549e-25 # kg / m^3\n",
    "b_in_kpc = 5e-5 # kpc\n",
    "b = b_in_kpc * 3.086e19  # in meters\n",
    "G = 6.673e-11 # m^3 / kg / s^2\n",
    "m_star = 1.989e30 # kg\n",
    "v_star = 200e3 # m/s\n",
    "M_vir = 1.989e20 # kg\n",
    "\n",
    "# Compute transition radius\n",
    "bs = get_bs()\n",
    "\n",
    "# Choose which formula to use by comparing 'b' to 'b_s'\n",
    "if b > bs:\n",
    "    E_frac = alpha_squared / (np.pi * beta) * (G * m_star**2) / (v_star**2 * b**4) / rhoBarmh\n",
    "else:\n",
    "    E_frac = alpha_squared / (np.pi * beta) * (G * m_star**2) / (v_star**2 * bs**4) / rhoBarmh\n",
    "print(f\"Efrac for b = 5e-5 kpc (right panel) is {E_frac:.2e}\")\n",
    "\n",
    "# compute normalized crossover radius 'x*'\n",
    "x_star = get_x_c()\n",
    "\n",
    "K = np.log(1 + c_val*x_star) - (c_val*x_star)/(1 + c_val*x_star) # this is just 'f_NFW(c_s * x_s*)' from equation (45) in our article\n",
    "\n",
    "d2crho_dpsi2_c_and_fNFW_substituted = d2crho_dpsi2.subs({c:c_val, f_NFW:f_NFW_val}) # Substitute the numerical values of 'concentration' and 'f_NFW(c)' into 'd2crho_dpsi2'\n",
    "d2crho_dpsi2_c_and_fNFW_substituted_lambdified = sp.lambdify(x_prime, d2crho_dpsi2_c_and_fNFW_substituted) # Lambdify 'd2crho_dpsi2_c_and_fNFW_substituted' such that it can be evaluated for a \n",
    "                                                                                                           # numerical value of 'x_prime'\n",
    "\n",
    "I = si.nquad(integrand_1, [range_psi_prime, range_eps, range_x])[0] # equation (J8) in our article\n",
    "\n",
    "r_0 = r_s * np.sqrt(2*K - 8*math.pi*c_val**3*I) #in Msolar / pc^3 for Hernquist. From equations (45) and (39) in our article\n",
    "rho_0 = rho_s * r_s / r_0 # pc . From equation (42) in our article\n",
    "rhos_Hern = rho_0 / (rs/r_0 * (1+rs/r_0)**3) # density prpfile of relaxed Hernquist minihalo \n",
    "\n",
    "print(f\"Scale radius of Hernquist profile = {r_0:.2e} pc\")\n",
    "print(f\"Scale density of Hernquist profile = {rho_0:.2e} Msolar / pc^3\")\n"
   ]
  },
  {
   "cell_type": "code",
   "execution_count": 6,
   "id": "e1da2211",
   "metadata": {},
   "outputs": [],
   "source": [
    "# Model paramters for broken power law fitted to the stabilized portion of the density profile at t= 2.5Gyr curve\n",
    "rho_0_opt = 7.15846010e-01\n",
    "r_0_opt = 2.46968278e-04\n",
    "k_opt = 3.34342569\n",
    "\n",
    "# Compute the density profile of the broken power law (BPL) curve using the fitted model paramters\n",
    "densities_bpl = rho_0_opt / (rs / r_0_opt) / (1 + rs / r_0_opt)**k_opt"
   ]
  },
  {
   "cell_type": "code",
   "execution_count": 7,
   "id": "6dee4080",
   "metadata": {},
   "outputs": [],
   "source": [
    "# This is a subset of the numerically simulated data points courtesy of Jacob Shen from the S2023 article.\n",
    "# These data points are chosen from the stabilized portion of the density profile at t= 2.5Gyr curve\n",
    "data_points = np.load(os.path.join('..', 'Data', 'data to model fit in S2023 Fig (7) bottom panel.npy'))"
   ]
  },
  {
   "cell_type": "code",
   "execution_count": 8,
   "id": "0456cbec",
   "metadata": {},
   "outputs": [
    {
     "data": {
      "image/png": "[encoded data removed]",
      "text/plain": [
       "<Figure size 640x480 with 1 Axes>"
      ]
     },
     "metadata": {},
     "output_type": "display_data"
    }
   ],
   "source": [
    "plt.rcParams[\"mathtext.fontset\"] = \"cm\"\n",
    "\n",
    "plt.loglog(rs, rhos_NFW*rs**3, color=\"black\", label=r\"NFW ($t$ = 0)\")\n",
    "\n",
    "\n",
    "plt.loglog(rs, rhos_Hern*rs**3, color=\"orange\", label=\"Hernquist\")\n",
    "\n",
    "# Plot data points which were used to model fit the broken power law (BPL) profile\n",
    "plt.loglog(data_points[:,0], data_points[:,1] * data_points[:,0]**3, \"o\", label=\"Numerical data points\")\n",
    "\n",
    "plt.loglog(rs, densities_bpl*rs**3, color=\"red\", label=\"BPL model fit to data points\")\n",
    "\n",
    "    \n",
    "plt.xlim(1e-5, 1e-2)\n",
    "plt.tick_params(which=\"both\", labelright=True, right=True)\n",
    "plt.xlabel(r\"$r\\rm [pc]$\", fontsize=18)\n",
    "plt.ylabel(r\"$\\rho r^3[\\rm M_\\odot]$\", fontsize=18)\n",
    "plt.ylim(9e-16, 3e-12)\n",
    "plt.legend(fontsize=10)\n",
    "plt.tight_layout()\n",
    "if save_to_disk:\n",
    "    plt.savefig(\"Figure 4; right panel.pdf\")\n",
    "plt.show()"
   ]
  },
  {
   "cell_type": "code",
   "execution_count": 9,
   "id": "da8f1590",
   "metadata": {},
   "outputs": [
    {
     "name": "stdout",
     "output_type": "stream",
     "text": [
      "Survival fraction of Hernquist using our model is 0.433\n",
      "Survival fraction of BPL using our model is 0.423\n",
      "Survival fraction using S2023's response function is 0.393\n"
     ]
    }
   ],
   "source": [
    "# Values calculated from graph above to calculate SF\n",
    "\n",
    "mass_Hern = 4.3259849564e-11  # Mass of Hernquist profile within r_vir,s measured in solar masses\n",
    "mass_BPL  = 4.23385705892e-11  # Mass of BPL profile within r_vir,s measured in solar masses\n",
    "M_vir_s = 1e-10 #virial mass of NFW profile\n",
    "\n",
    "SF_Hern = mass_Hern / M_vir_s # survival fraction computed using the Hernquist denisty profile\n",
    "SF_BPL  = mass_BPL  / M_vir_s # survival fraction computed using the BPL denisty profile\n",
    "\n",
    "# Using S2023's response function to calculate SF\n",
    "c = 100\n",
    "def compute_fNFW(x):\n",
    "    return np.log(1 + x) - x / (1 + x)\n",
    "\n",
    "eta = 0.987\n",
    "a1 = -0.8\n",
    "a2 = -0.586\n",
    "a3 = -0.034\n",
    "b0 = -0.583\n",
    "b1 = -0.559\n",
    "\n",
    "p = 10**( a1*(np.log10(c) - eta) + a2*(np.log10(c) - eta)**2 + a3*(np.log10(c) - eta)**3 )\n",
    "k = 10**( b0 + b1*(np.log10(c) - 2) )\n",
    "\n",
    "# Compute E_frac:\n",
    "G_SI_units = 6.6743e-11 # in m^3 / kg / s^2\n",
    "G = G_SI_units * (3.24078e-17)**3 / 5.02785e-31\n",
    "b = 5e-2 # in parsec\n",
    "m_star = 1 # in solar masses\n",
    "v_star_km_s = 200 # in  km /s \n",
    "v_star = v_star_km_s * 3.24078e-14 # in parsec / second\n",
    "alpha_squared = 3/c**2 + 1/(2*compute_fNFW(c))*(c-3)/(c+1)\n",
    "beta = (c**3 - 2*c*(1+c)*compute_fNFW(c)) / (2*(1+c)**2 * (compute_fNFW(c))**2) # this is actually gamma in our article\n",
    "rho_crit = 9.1275e-27 * 5.02785e-31 / (3.24078e-17)**3 # in Msolar / pc^3 . this is the cosmological critical density today\n",
    "rho_vir = 200 * rho_crit # in Msolar / pc^3. This is the average density inside the virial radius\n",
    "\n",
    "E_frac = alpha_squared / (np.pi * beta) * (G * m_star**2) / (v_star**2 * b**4) / rho_vir\n",
    "\n",
    "# Using S2023's response function to calculate SF\n",
    "def compute_survival_fraction(Efrac):   \n",
    "    survival_fraction = 2 / ( 1+ (1 + Efrac/p)**k )\n",
    "    return survival_fraction\n",
    "\n",
    "\n",
    "\n",
    "print(f\"Survival fraction of Hernquist using our model is {SF_Hern:.3g}\")\n",
    "print(f\"Survival fraction of BPL using our model is {SF_BPL:.3g}\")\n",
    "print(f\"Survival fraction using S2023's response function is {compute_survival_fraction(E_frac):.3g}\")\n"
   ]
  }
 ],
 "metadata": {
  "kernelspec": {
   "display_name": "Python 3",
   "language": "python",
   "name": "python3"
  },
  "language_info": {
   "codemirror_mode": {
    "name": "ipython",
    "version": 3
   },
   "file_extension": ".py",
   "mimetype": "text/x-python",
   "name": "python",
   "nbconvert_exporter": "python",
   "pygments_lexer": "ipython3",
   "version": "3.11.5"
  }
 },
 "nbformat": 4,
 "nbformat_minor": 5
}
