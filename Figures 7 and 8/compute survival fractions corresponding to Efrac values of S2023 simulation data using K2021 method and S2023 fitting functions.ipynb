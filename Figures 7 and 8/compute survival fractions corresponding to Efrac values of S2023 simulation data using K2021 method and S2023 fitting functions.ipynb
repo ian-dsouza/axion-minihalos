{
 "cells": [
  {
   "cell_type": "code",
   "execution_count": 17,
   "metadata": {},
   "outputs": [],
   "source": [
    "import numpy as np\n",
    "import sympy as sp\n",
    "import math\n",
    "import scipy.integrate as si\n",
    "import scipy.optimize as so\n",
    "import os"
   ]
  },
  {
   "cell_type": "code",
   "execution_count": 18,
   "metadata": {},
   "outputs": [],
   "source": [
    "# PARAMETERS\n",
    "\n",
    "concentration = 10 # choose frm the following values: 10, 30, 100\n",
    "save_to_disk = False # If set to 'True', 'E_fracs' and 'survival fractions' will be saved to disk. Set to 'False' if you don't want them to be saved to disk."
   ]
  },
  {
   "cell_type": "markdown",
   "metadata": {},
   "source": [
    "K2021 Method"
   ]
  },
  {
   "cell_type": "code",
   "execution_count": 19,
   "metadata": {},
   "outputs": [],
   "source": [
    "def second_derivative_parametric_input(x, y, t):\n",
    "    # Input should be 'x' in terms 't', and 'y' in terms of 't'\n",
    "    # Output is second derivative of 'y' with respect to 'x' ('d2y/dx2') as a function of 'x'\n",
    "    dy_dx = sp.Derivative(y, t) / sp.Derivative(x, t)\n",
    "    d2y_dx2 =  sp.Derivative(dy_dx, t) / sp.Derivative(x, t)\n",
    "    d2y_dx2_in_terms_of_t = sp.nsimplify(d2y_dx2.doit()) # Computes the second derivative of 'y' with respect to 'x' as a function of 't'\n",
    "\n",
    "    global psi_Prime\n",
    "    psi_Prime = sp.symbols(\"psi_Prime\", positive=True)\n",
    "    eqn = sp.Eq(psi_Prime, x)\n",
    "    # Python gives the solution in terms of the 0th (principal) branch of the LambertW function. This is the wrong solution.\n",
    "    sol_t = sp.solve(eqn, t, rational=False)[0]\n",
    "    \n",
    "    # Asks python instead to convert the 0th branch of the LambertW function in 'sol_t' to the -1th branch of the LambertW function\n",
    "    # So, in 'sol_t' the following code converts LambertW(args) to LambertW(args, -1)\n",
    "    mod_sol_t = sol_t.replace(lambda m: isinstance(m, sp.LambertW), lambda m: sp.LambertW(*m.args, -1))\n",
    "\n",
    "    # d2ydx2 in terms of psi\n",
    "    d2y_dx2_in_terms_of_x = sp.nsimplify(d2y_dx2_in_terms_of_t.subs(t, mod_sol_t))\n",
    "\n",
    "\n",
    "    return d2y_dx2_in_terms_of_x\n",
    "    "
   ]
  },
  {
   "cell_type": "code",
   "execution_count": 20,
   "metadata": {},
   "outputs": [],
   "source": [
    "c, f_NFW, x = sp.symbols(\"c f_NFW x\", positive=True)\n",
    "crho = 1 / (c*x) / (1+c*x)**2 # dimensionless density of NFW profile. 'chro = rho / rho_s', where 'rho' is the density profile and 'rho_s' is the scale radius.\n",
    "psi = 1 / f_NFW * sp.log(1+c*x) / x # normalized relative potential\n",
    "\n",
    "d2crho_dpsi2 = second_derivative_parametric_input(psi, crho, x) # Second derivative of 'chro' with respect to 'psi'"
   ]
  },
  {
   "cell_type": "code",
   "execution_count": 21,
   "metadata": {},
   "outputs": [
    {
     "name": "stdout",
     "output_type": "stream",
     "text": [
      "Iteration #1\n",
      "Iteration #2\n",
      "Iteration #3\n",
      "Iteration #4\n",
      "Iteration #5\n",
      "Iteration #6\n"
     ]
    }
   ],
   "source": [
    "c_val = concentration\n",
    "f_NFW_val = math.log(1+c_val)-c_val/(1+c_val)\n",
    "\n",
    "alpha_squared = 3/c_val**2 + 1/(2*f_NFW_val)*(c_val-3)/(c_val+1)\n",
    "beta = (c_val**3 - 2*c_val*(1+c_val)*f_NFW_val) / (2*(1+c_val)**2 * f_NFW_val**2) # this is actually gamma in our article\n",
    "\n",
    "d2crho_dpsi2_c_and_fNFW_substituted = d2crho_dpsi2.subs({c:c_val, f_NFW:f_NFW_val}) # substitute the numerical values of 'concentration' and 'f_NFW' in 'd2crho_dpsi2'\n",
    "\n",
    "d2crho_dpsi2_c_and_fNFW_substituted_lambdified = sp.lambdify(psi_Prime, d2crho_dpsi2_c_and_fNFW_substituted) # Lambdify 'd2crho_dpsi2_c_and_fNFW_substituted' so that you can evaluate it by passing a numerical value of \n",
    "                                                                                                             # 'psi_Prime' as input\n",
    "\n",
    "\n",
    "def get_x_c():\n",
    "    eqn = lambda x_c: beta / alpha_squared * E_frac * x_c**2 - 1/f_NFW_val * np.log(1+c_val*x_c) / x_c\n",
    "    sol = so.fsolve(eqn, 1)[0]\n",
    "    \n",
    "    return sol\n",
    "\n",
    "# Compute the normalized crossover radius x*\n",
    "def integrand(psi_prime, eps, x):\n",
    "    psi = 1/f_NFW_val * math.log(1+c_val*x) / x\n",
    "\n",
    "    return (\n",
    "        x**2 * 1/(math.sqrt(8)*math.pi**2) * 1/np.sqrt(eps - psi_prime) * \n",
    "        d2crho_dpsi2_c_and_fNFW_substituted_lambdified(psi_prime).real * np.sqrt(2*(psi - eps))\n",
    "    )\n",
    "\n",
    "\n",
    "\n",
    "# define upper and lower limits of the integrals in 'integral_1'\n",
    "def range_x_1():\n",
    "    return [0, min(x_c, 1)]\n",
    "\n",
    "def range_eps_1(x):\n",
    "    return [0, beta / alpha_squared * E_frac * x**2]\n",
    "\n",
    "def range_psi_prime_1(eps, x):\n",
    "    return [0, eps]\n",
    "\n",
    "\n",
    "\n",
    "# define upper and lower limits of the integrals in 'integral_2'\n",
    "def range_x_2():\n",
    "    return [min(x_c, 1), 1]\n",
    "\n",
    "def range_eps_2(x):\n",
    "    psi = 1/f_NFW_val * math.log(1+c_val*x) / x\n",
    "    return [0, psi]\n",
    "\n",
    "def range_psi_prime_2(eps, x):\n",
    "    return [0, eps]\n",
    "\n",
    "\n",
    "# Load numerical simulation data points: provided to us courtesy of Jacob Shen from the S2023 paper. Load the correct file based on the value of 'concentration'.\n",
    "if concentration == 10:\n",
    "    data_SF_vs_Efrac = np.genfromtxt(os.path.join('..', 'Data', 'S2023 Fig 3, c=10.dat'), dtype=None, delimiter='')\n",
    "elif concentration == 30:\n",
    "    data_SF_vs_Efrac = np.genfromtxt(os.path.join('..', 'Data', 'S2023 Fig 3, c=30.dat'), dtype=None, delimiter='')\n",
    "elif concentration == 100:\n",
    "    data_SF_vs_Efrac = np.genfromtxt(os.path.join('..', 'Data', 'S2023 Fig 3, c=100.dat'), dtype=None, delimiter='')\n",
    "else:\n",
    "    raise ValueError(\"Please set the 'concentration' parameter to one of the following values: 10, 30, 100\")\n",
    "\n",
    "\n",
    "E_fracs = data_SF_vs_Efrac[:,0] # these are the values of 'E_frac' for all the simulation data points from S2023 paper\n",
    "survival_fractions = np.zeros(np.size(E_fracs)) # Create a zeros array the same size as the 'E_fracs' array. This will eventually contain the values of survival fractions corresponding to E_frac values.\n",
    "\n",
    "for i in range(np.size(E_fracs)):\n",
    "\n",
    "    E_frac = E_fracs[i]\n",
    "\n",
    "    x_c = get_x_c() # compute the normalized crossover radius x*\n",
    "\n",
    "    # Start computing the survival fraction using triple nested integrals\n",
    "\n",
    "    integral_1 = si.nquad(integrand, [range_psi_prime_1, range_eps_1, range_x_1])[0]\n",
    "\n",
    "    if min(x_c, 1) == 1:\n",
    "        integral_2 = 0\n",
    "    else:\n",
    "        integral_2 = si.nquad(integrand, [range_psi_prime_2, range_eps_2, range_x_2])[0]\n",
    "\n",
    "\n",
    "    survival_fraction = 1 - 4*math.pi*c_val**3/f_NFW_val * (integral_1 + integral_2)  # From eqn (D1) in our article\n",
    "\n",
    "    survival_fractions[i] = survival_fraction\n",
    "\n",
    "    print(f\"Iteration #{i+1}\")\n",
    "\n"
   ]
  },
  {
   "cell_type": "code",
   "execution_count": 22,
   "metadata": {},
   "outputs": [],
   "source": [
    "if save_to_disk:\n",
    "    np.save(f\"survival_fractions_K2021_c_{c_val}_ErrorChecking\", survival_fractions)"
   ]
  },
  {
   "cell_type": "markdown",
   "metadata": {},
   "source": [
    "S2023 Fitting Functions "
   ]
  },
  {
   "cell_type": "code",
   "execution_count": 23,
   "metadata": {},
   "outputs": [],
   "source": [
    "# Compute the survival fraction using S2023 fitting functions.\n",
    "eta = 0.98\n",
    "a1 = -0.8\n",
    "a2 = -0.59\n",
    "a3 = -0.034\n",
    "b0 = -0.58\n",
    "b1 = -0.56\n",
    "\n",
    "p = 10**( a1*(np.log10(c_val) - eta) + a2*(np.log10(c_val) - eta)**2 + a3*(np.log10(c_val) - eta)**3 )\n",
    "k = 10**( b0 + b1*(np.log10(c_val) - 2) )\n",
    "\n",
    "survival_fractions_S2023 = 2 / ( 1+ (1 + E_fracs/p)**k )"
   ]
  },
  {
   "cell_type": "code",
   "execution_count": 24,
   "metadata": {},
   "outputs": [],
   "source": [
    "if save_to_disk:\n",
    "    np.save(f\"survival_fractions_S2023_c_{c_val}_ErrorChecking\", survival_fractions_S2023)"
   ]
  },
  {
   "cell_type": "code",
   "execution_count": null,
   "metadata": {},
   "outputs": [],
   "source": []
  }
 ],
 "metadata": {
  "kernelspec": {
   "display_name": "Python 3.10.4 64-bit",
   "language": "python",
   "name": "python3"
  },
  "language_info": {
   "codemirror_mode": {
    "name": "ipython",
    "version": 3
   },
   "file_extension": ".py",
   "mimetype": "text/x-python",
   "name": "python",
   "nbconvert_exporter": "python",
   "pygments_lexer": "ipython3",
   "version": "3.11.5"
  },
  "orig_nbformat": 4,
  "vscode": {
   "interpreter": {
    "hash": "2b2e6e9455a2f905de0eb9c1ff9c364721ad3b52d7878a3a56194e670d5b2711"
   }
  }
 },
 "nbformat": 4,
 "nbformat_minor": 2
}
