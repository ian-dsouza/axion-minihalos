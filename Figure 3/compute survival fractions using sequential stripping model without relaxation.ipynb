{
 "cells": [
  {
   "cell_type": "code",
   "execution_count": 25,
   "metadata": {},
   "outputs": [],
   "source": [
    "%reset"
   ]
  },
  {
   "cell_type": "code",
   "execution_count": 26,
   "metadata": {},
   "outputs": [],
   "source": [
    "import numpy as np\n",
    "import sympy as sp\n",
    "import math\n",
    "import scipy.integrate as si\n",
    "import scipy.optimize as so"
   ]
  },
  {
   "cell_type": "code",
   "execution_count": 27,
   "metadata": {},
   "outputs": [],
   "source": [
    "# PARAMETERS\n",
    "\n",
    "concentration = 10 # concentration of pre-encounter minihalo\n",
    "Efrac_min = 1e-4 # minimum value of E_frac to be considered\n",
    "Efrac_max = 1e3  # maximum value of E_frac to be considered\n",
    "num_Efracs = 41 # total number of E_frac values to be considered, logarithmically spaced between 'Efrac_min' and 'Efrac_max'\n",
    "save_to_disk = False # If True, saves the E_frac array and survival fractions array to disk. Stored as '.npy' files. Set to 'False' if you don't want to save arrays to disk."
   ]
  },
  {
   "cell_type": "code",
   "execution_count": 28,
   "metadata": {},
   "outputs": [],
   "source": [
    "def second_derivative_parametric_input(x, y, t):\n",
    "    # Input should be 'x' in terms 't', and 'y' in terms of 't'\n",
    "    # Output is second derivative of 'y' with respect to 'x' ('d2y/dx2') as a function of 't'\n",
    "    dy_dx = sp.Derivative(y, t) / sp.Derivative(x, t)\n",
    "    d2y_dx2 =  sp.Derivative(dy_dx, t) / sp.Derivative(x, t)\n",
    "    d2y_dx2_in_terms_of_t = sp.nsimplify(d2y_dx2.doit())\n",
    "\n",
    "    return d2y_dx2_in_terms_of_t\n",
    "    "
   ]
  },
  {
   "cell_type": "code",
   "execution_count": 29,
   "metadata": {},
   "outputs": [],
   "source": [
    "c, f_NFW, x_prime = sp.symbols(\"c f_NFW x_prime\", positive=True)\n",
    "crho = 1 / (c*x_prime) / (1+c*x_prime)**2  # dimensionless density of NFW profile. 'chro = rho / rho_s', where 'rho' is the density profile and 'rho_s' is the scale radius.\n",
    "psi_2 = 1/f_NFW * ( sp.log(1+c*x_prime)/x_prime - c/(1+c*x_prime) ) # normalized relative potential\n",
    "\n",
    "d2crho_dpsi2 = second_derivative_parametric_input(psi_2, crho, x_prime)  # Second derivative of 'chro' with respect to 'psi_2' as a functin of 'x_prime'"
   ]
  },
  {
   "cell_type": "code",
   "execution_count": 30,
   "metadata": {},
   "outputs": [
    {
     "name": "stdout",
     "output_type": "stream",
     "text": [
      "Iteration #41\r"
     ]
    }
   ],
   "source": [
    "c_val = concentration\n",
    "f_NFW_val = math.log(1+c_val)-c_val/(1+c_val)\n",
    "\n",
    "alpha_squared = 3/c_val**2 + 1/(2*f_NFW_val)*(c_val-3)/(c_val+1)\n",
    "beta = (c_val**3 - 2*c_val*(1+c_val)*f_NFW_val) / (2*(1+c_val)**2 * f_NFW_val**2) # this is actually gamma in our article\n",
    "\n",
    "d2crho_dpsi2_c_and_fNFW_substituted = d2crho_dpsi2.subs({c:c_val, f_NFW:f_NFW_val}) # substitute the numerical values of 'concentration' and 'f_NFW' in 'd2crho_dpsi2'\n",
    "\n",
    "d2crho_dpsi2_c_and_fNFW_substituted_lambdified = sp.lambdify(x_prime, d2crho_dpsi2_c_and_fNFW_substituted) # Lambdify 'd2crho_dpsi2_c_and_fNFW_substituted' so that you can evaluate it by passing a numerical value of \n",
    "                                                                                                           # 'x_prime' as input\n",
    "\n",
    "# Compute the normalized crossover radius x*\n",
    "def get_x_c():\n",
    "    eqn = lambda x_c: beta / alpha_squared * E_frac * x_c**2 - ( 1/f_NFW_val * ( np.log(1+c_val*x_c) / x_c  -  c_val / (1+c_val*x_c) ) )\n",
    "    sol = so.fsolve(eqn, 1)[0]\n",
    "    \n",
    "    return sol\n",
    "\n",
    "# Computes normalized radius 'x' given a value of normalized relative potential 'psi_B', using equation (25) in our article \n",
    "def get_x_prime(psi_prime):\n",
    "    eqn = lambda x_Prime: psi_prime  -  1/f_NFW_val * ( np.log(1+c_val*x_Prime)/x_Prime - c_val/(1+c_val*x_Prime) )\n",
    "    #sol = so.fsolve(eqn, 1)[0]\n",
    "    sol = so.root_scalar(eqn, bracket=(x_star, 1e20)).root\n",
    "    #print(sol)\n",
    "    \n",
    "    return sol\n",
    "\n",
    "# Compute the integrand according to equation (23) in our article\n",
    "def integrand_1(psi_prime, eps, x):\n",
    "    \n",
    "    psi_1 = 1/f_NFW_val * ( math.log(1+c_val*x)/x - c_val/(1+c_val*x_star) ) # This is 'psi_A' from equation (24) in our article\n",
    "    x_prime = get_x_prime(psi_prime)\n",
    "\n",
    "    return (\n",
    "        x**2 * 1/(math.sqrt(8)*math.pi**2) * 1/np.sqrt(eps - psi_prime) * \n",
    "        d2crho_dpsi2_c_and_fNFW_substituted_lambdified(x_prime).real * np.sqrt(2*(psi_1 - eps))\n",
    "    )\n",
    "\n",
    "def range_x_1():\n",
    "    return [0, min(x_star, 1)]\n",
    "\n",
    "def range_eps_1(x):\n",
    "    return [0, beta / alpha_squared * E_frac * x**2]\n",
    "\n",
    "def range_psi_prime_1(eps, x):\n",
    "    return [0, eps]\n",
    "\n",
    "\n",
    "\n",
    "# Compute the integrand according to equation (21) in our article\n",
    "def integrand_2(x):\n",
    "    return x / (1 + c_val*x)**2\n",
    "\n",
    "def range_x_2():\n",
    "    return [0, min(x_star, 1)]\n",
    "\n",
    "\n",
    "\n",
    "    \n",
    "E_fracs = np.geomspace(Efrac_min, Efrac_max, num_Efracs, endpoint=True) # Creates a logarithmically spaced array of E_frac values. Adjust as necessary\n",
    "survival_fractions = np.zeros(np.size(E_fracs)) # Create a zeros array the same size as the 'E_fracs' array. This will eventually contain the values of survival fractions corresponding to E_frac values.\n",
    "\n",
    "for i in range(np.size(E_fracs)):\n",
    "\n",
    "    E_frac = E_fracs[i]\n",
    "\n",
    "    x_star = get_x_c() # compute the normalized crossover radius x*\n",
    "\n",
    "    # Compute mass of 0 < x < x_star region assuming no mass loss in this region - computes the survival fraction equivalent\n",
    "    mass_fraction = c_val**2/f_NFW_val * si.nquad(integrand_2, [range_x_2])[0]\n",
    "\n",
    "    # Compute partial mass loss in 0 < x < x_star region - computes the survival fraction equivalent\n",
    "    partial_mass_loss_fraction = 4*math.pi*c_val**3/f_NFW_val * si.nquad(integrand_1, [range_psi_prime_1, range_eps_1, range_x_1])[0]\n",
    "\n",
    "    survival_fraction = mass_fraction - partial_mass_loss_fraction # equation (20) in our article\n",
    "    \n",
    "    survival_fractions[i] = survival_fraction\n",
    "\n",
    "    print(f\"Iteration #{i+1}\", end=\"\\r\", flush=True)\n"
   ]
  },
  {
   "cell_type": "code",
   "execution_count": 31,
   "metadata": {},
   "outputs": [],
   "source": [
    "# Save files to disk\n",
    "if save_to_disk:\n",
    "    np.save(\"E_fracs\", E_fracs)\n",
    "    np.save(f\"survival_fractions_c_{c_val}_sequential_stripping\", survival_fractions)"
   ]
  }
 ],
 "metadata": {
  "kernelspec": {
   "display_name": "Python 3.10.4 64-bit",
   "language": "python",
   "name": "python3"
  },
  "language_info": {
   "codemirror_mode": {
    "name": "ipython",
    "version": 3
   },
   "file_extension": ".py",
   "mimetype": "text/x-python",
   "name": "python",
   "nbconvert_exporter": "python",
   "pygments_lexer": "ipython3",
   "version": "3.11.5"
  },
  "orig_nbformat": 4,
  "vscode": {
   "interpreter": {
    "hash": "2b2e6e9455a2f905de0eb9c1ff9c364721ad3b52d7878a3a56194e670d5b2711"
   }
  }
 },
 "nbformat": 4,
 "nbformat_minor": 2
}
